{
 "cells": [
  {
   "cell_type": "code",
   "execution_count": 1,
   "id": "4f4295f5",
   "metadata": {
    "scrolled": true
   },
   "outputs": [],
   "source": [
    "import pandas as pd\n",
    "import numpy as np\n",
    "import matplotlib.pyplot as plt\n",
    "\n",
    "import warnings \n",
    "warnings.filterwarnings('ignore')"
   ]
  },
  {
   "cell_type": "code",
   "execution_count": 2,
   "id": "0f30131f",
   "metadata": {},
   "outputs": [
    {
     "data": {
      "text/html": [
       "<div>\n",
       "<style scoped>\n",
       "    .dataframe tbody tr th:only-of-type {\n",
       "        vertical-align: middle;\n",
       "    }\n",
       "\n",
       "    .dataframe tbody tr th {\n",
       "        vertical-align: top;\n",
       "    }\n",
       "\n",
       "    .dataframe thead th {\n",
       "        text-align: right;\n",
       "    }\n",
       "</style>\n",
       "<table border=\"1\" class=\"dataframe\">\n",
       "  <thead>\n",
       "    <tr style=\"text-align: right;\">\n",
       "      <th></th>\n",
       "      <th>battery_power</th>\n",
       "      <th>blue</th>\n",
       "      <th>clock_speed</th>\n",
       "      <th>dual_sim</th>\n",
       "      <th>fc</th>\n",
       "      <th>four_g</th>\n",
       "      <th>int_memory</th>\n",
       "      <th>m_dep</th>\n",
       "      <th>mobile_wt</th>\n",
       "      <th>n_cores</th>\n",
       "      <th>...</th>\n",
       "      <th>px_height</th>\n",
       "      <th>px_width</th>\n",
       "      <th>ram</th>\n",
       "      <th>sc_h</th>\n",
       "      <th>sc_w</th>\n",
       "      <th>talk_time</th>\n",
       "      <th>three_g</th>\n",
       "      <th>touch_screen</th>\n",
       "      <th>wifi</th>\n",
       "      <th>price_range</th>\n",
       "    </tr>\n",
       "  </thead>\n",
       "  <tbody>\n",
       "    <tr>\n",
       "      <th>0</th>\n",
       "      <td>842</td>\n",
       "      <td>0</td>\n",
       "      <td>2.2</td>\n",
       "      <td>0</td>\n",
       "      <td>1</td>\n",
       "      <td>0</td>\n",
       "      <td>7</td>\n",
       "      <td>0.6</td>\n",
       "      <td>188</td>\n",
       "      <td>2</td>\n",
       "      <td>...</td>\n",
       "      <td>20</td>\n",
       "      <td>756</td>\n",
       "      <td>2549</td>\n",
       "      <td>9</td>\n",
       "      <td>7</td>\n",
       "      <td>19</td>\n",
       "      <td>0</td>\n",
       "      <td>0</td>\n",
       "      <td>1</td>\n",
       "      <td>1</td>\n",
       "    </tr>\n",
       "    <tr>\n",
       "      <th>1</th>\n",
       "      <td>1021</td>\n",
       "      <td>1</td>\n",
       "      <td>0.5</td>\n",
       "      <td>1</td>\n",
       "      <td>0</td>\n",
       "      <td>1</td>\n",
       "      <td>53</td>\n",
       "      <td>0.7</td>\n",
       "      <td>136</td>\n",
       "      <td>3</td>\n",
       "      <td>...</td>\n",
       "      <td>905</td>\n",
       "      <td>1988</td>\n",
       "      <td>2631</td>\n",
       "      <td>17</td>\n",
       "      <td>3</td>\n",
       "      <td>7</td>\n",
       "      <td>1</td>\n",
       "      <td>1</td>\n",
       "      <td>0</td>\n",
       "      <td>2</td>\n",
       "    </tr>\n",
       "    <tr>\n",
       "      <th>2</th>\n",
       "      <td>563</td>\n",
       "      <td>1</td>\n",
       "      <td>0.5</td>\n",
       "      <td>1</td>\n",
       "      <td>2</td>\n",
       "      <td>1</td>\n",
       "      <td>41</td>\n",
       "      <td>0.9</td>\n",
       "      <td>145</td>\n",
       "      <td>5</td>\n",
       "      <td>...</td>\n",
       "      <td>1263</td>\n",
       "      <td>1716</td>\n",
       "      <td>2603</td>\n",
       "      <td>11</td>\n",
       "      <td>2</td>\n",
       "      <td>9</td>\n",
       "      <td>1</td>\n",
       "      <td>1</td>\n",
       "      <td>0</td>\n",
       "      <td>2</td>\n",
       "    </tr>\n",
       "    <tr>\n",
       "      <th>3</th>\n",
       "      <td>615</td>\n",
       "      <td>1</td>\n",
       "      <td>2.5</td>\n",
       "      <td>0</td>\n",
       "      <td>0</td>\n",
       "      <td>0</td>\n",
       "      <td>10</td>\n",
       "      <td>0.8</td>\n",
       "      <td>131</td>\n",
       "      <td>6</td>\n",
       "      <td>...</td>\n",
       "      <td>1216</td>\n",
       "      <td>1786</td>\n",
       "      <td>2769</td>\n",
       "      <td>16</td>\n",
       "      <td>8</td>\n",
       "      <td>11</td>\n",
       "      <td>1</td>\n",
       "      <td>0</td>\n",
       "      <td>0</td>\n",
       "      <td>2</td>\n",
       "    </tr>\n",
       "    <tr>\n",
       "      <th>4</th>\n",
       "      <td>1821</td>\n",
       "      <td>1</td>\n",
       "      <td>1.2</td>\n",
       "      <td>0</td>\n",
       "      <td>13</td>\n",
       "      <td>1</td>\n",
       "      <td>44</td>\n",
       "      <td>0.6</td>\n",
       "      <td>141</td>\n",
       "      <td>2</td>\n",
       "      <td>...</td>\n",
       "      <td>1208</td>\n",
       "      <td>1212</td>\n",
       "      <td>1411</td>\n",
       "      <td>8</td>\n",
       "      <td>2</td>\n",
       "      <td>15</td>\n",
       "      <td>1</td>\n",
       "      <td>1</td>\n",
       "      <td>0</td>\n",
       "      <td>1</td>\n",
       "    </tr>\n",
       "  </tbody>\n",
       "</table>\n",
       "<p>5 rows × 21 columns</p>\n",
       "</div>"
      ],
      "text/plain": [
       "   battery_power  blue  clock_speed  dual_sim  fc  four_g  int_memory  m_dep  \\\n",
       "0            842     0          2.2         0   1       0           7    0.6   \n",
       "1           1021     1          0.5         1   0       1          53    0.7   \n",
       "2            563     1          0.5         1   2       1          41    0.9   \n",
       "3            615     1          2.5         0   0       0          10    0.8   \n",
       "4           1821     1          1.2         0  13       1          44    0.6   \n",
       "\n",
       "   mobile_wt  n_cores  ...  px_height  px_width   ram  sc_h  sc_w  talk_time  \\\n",
       "0        188        2  ...         20       756  2549     9     7         19   \n",
       "1        136        3  ...        905      1988  2631    17     3          7   \n",
       "2        145        5  ...       1263      1716  2603    11     2          9   \n",
       "3        131        6  ...       1216      1786  2769    16     8         11   \n",
       "4        141        2  ...       1208      1212  1411     8     2         15   \n",
       "\n",
       "   three_g  touch_screen  wifi  price_range  \n",
       "0        0             0     1            1  \n",
       "1        1             1     0            2  \n",
       "2        1             1     0            2  \n",
       "3        1             0     0            2  \n",
       "4        1             1     0            1  \n",
       "\n",
       "[5 rows x 21 columns]"
      ]
     },
     "execution_count": 2,
     "metadata": {},
     "output_type": "execute_result"
    }
   ],
   "source": [
    "df = pd.read_csv('mobile_price_range_data.csv')\n",
    "df.head()"
   ]
  },
  {
   "cell_type": "code",
   "execution_count": 3,
   "id": "49145b45",
   "metadata": {},
   "outputs": [
    {
     "data": {
      "text/plain": [
       "(2000, 21)"
      ]
     },
     "execution_count": 3,
     "metadata": {},
     "output_type": "execute_result"
    }
   ],
   "source": [
    "df.shape"
   ]
  },
  {
   "cell_type": "markdown",
   "id": "1b4937f4",
   "metadata": {},
   "source": [
    "## Data preprocessing "
   ]
  },
  {
   "cell_type": "markdown",
   "id": "9e99154d",
   "metadata": {},
   "source": [
    "### 1. Handling null values"
   ]
  },
  {
   "cell_type": "code",
   "execution_count": 4,
   "id": "009044a9",
   "metadata": {},
   "outputs": [
    {
     "data": {
      "text/plain": [
       "battery_power    0\n",
       "blue             0\n",
       "clock_speed      0\n",
       "dual_sim         0\n",
       "fc               0\n",
       "four_g           0\n",
       "int_memory       0\n",
       "m_dep            0\n",
       "mobile_wt        0\n",
       "n_cores          0\n",
       "pc               0\n",
       "px_height        0\n",
       "px_width         0\n",
       "ram              0\n",
       "sc_h             0\n",
       "sc_w             0\n",
       "talk_time        0\n",
       "three_g          0\n",
       "touch_screen     0\n",
       "wifi             0\n",
       "price_range      0\n",
       "dtype: int64"
      ]
     },
     "execution_count": 4,
     "metadata": {},
     "output_type": "execute_result"
    }
   ],
   "source": [
    "df.isnull().sum()"
   ]
  },
  {
   "cell_type": "markdown",
   "id": "7bbf2410",
   "metadata": {},
   "source": [
    "### 2. Handling duplicate records"
   ]
  },
  {
   "cell_type": "code",
   "execution_count": 5,
   "id": "06fff414",
   "metadata": {
    "scrolled": true
   },
   "outputs": [
    {
     "data": {
      "text/plain": [
       "0"
      ]
     },
     "execution_count": 5,
     "metadata": {},
     "output_type": "execute_result"
    }
   ],
   "source": [
    "df.duplicated().sum()"
   ]
  },
  {
   "cell_type": "markdown",
   "id": "761f5ce0",
   "metadata": {},
   "source": [
    "### 3. Check datatypes"
   ]
  },
  {
   "cell_type": "code",
   "execution_count": 6,
   "id": "52b2936d",
   "metadata": {},
   "outputs": [
    {
     "data": {
      "text/plain": [
       "battery_power      int64\n",
       "blue               int64\n",
       "clock_speed      float64\n",
       "dual_sim           int64\n",
       "fc                 int64\n",
       "four_g             int64\n",
       "int_memory         int64\n",
       "m_dep            float64\n",
       "mobile_wt          int64\n",
       "n_cores            int64\n",
       "pc                 int64\n",
       "px_height          int64\n",
       "px_width           int64\n",
       "ram                int64\n",
       "sc_h               int64\n",
       "sc_w               int64\n",
       "talk_time          int64\n",
       "three_g            int64\n",
       "touch_screen       int64\n",
       "wifi               int64\n",
       "price_range        int64\n",
       "dtype: object"
      ]
     },
     "execution_count": 6,
     "metadata": {},
     "output_type": "execute_result"
    }
   ],
   "source": [
    "df.dtypes"
   ]
  },
  {
   "cell_type": "markdown",
   "id": "83e942b8",
   "metadata": {},
   "source": [
    "### 4. Check the target variable"
   ]
  },
  {
   "cell_type": "code",
   "execution_count": 7,
   "id": "71a3ec10",
   "metadata": {},
   "outputs": [
    {
     "data": {
      "text/plain": [
       "1    500\n",
       "2    500\n",
       "3    500\n",
       "0    500\n",
       "Name: price_range, dtype: int64"
      ]
     },
     "execution_count": 7,
     "metadata": {},
     "output_type": "execute_result"
    }
   ],
   "source": [
    "df['price_range'].value_counts()"
   ]
  },
  {
   "cell_type": "markdown",
   "id": "f98c6ba5",
   "metadata": {},
   "source": [
    "### 5. Select x(independent features) and y(dependent feature)"
   ]
  },
  {
   "cell_type": "code",
   "execution_count": 8,
   "id": "e9124c89",
   "metadata": {},
   "outputs": [
    {
     "name": "stdout",
     "output_type": "stream",
     "text": [
      "<class 'pandas.core.frame.DataFrame'>\n",
      "<class 'pandas.core.series.Series'>\n",
      "(2000, 20)\n",
      "(2000,)\n"
     ]
    }
   ],
   "source": [
    "x = df.drop('price_range',axis=1)\n",
    "y = df['price_range']\n",
    "print(type(x))\n",
    "print(type(y))\n",
    "print(x.shape)\n",
    "print(y.shape)"
   ]
  },
  {
   "cell_type": "markdown",
   "id": "defed143",
   "metadata": {},
   "source": [
    "### 6. Split the data into train and test data"
   ]
  },
  {
   "cell_type": "code",
   "execution_count": 9,
   "id": "3b11e7ec",
   "metadata": {},
   "outputs": [],
   "source": [
    "from sklearn.model_selection import train_test_split\n",
    "from sklearn.metrics import accuracy_score"
   ]
  },
  {
   "cell_type": "code",
   "execution_count": 10,
   "id": "0929c03c",
   "metadata": {},
   "outputs": [
    {
     "name": "stdout",
     "output_type": "stream",
     "text": [
      "(1500, 20)\n",
      "(500, 20)\n",
      "(1500,)\n",
      "(500,)\n"
     ]
    }
   ],
   "source": [
    "x_train, x_test, y_train, y_test = train_test_split(x,y,test_size=0.25,random_state=42)\n",
    "print(x_train.shape)\n",
    "print(x_test.shape)\n",
    "print(y_train.shape)\n",
    "print(y_test.shape)"
   ]
  },
  {
   "cell_type": "code",
   "execution_count": 11,
   "id": "d93b1b53",
   "metadata": {},
   "outputs": [],
   "source": [
    "def eval_model(ytest,ypred):\n",
    "    print('Accuracy Score: ',accuracy_score(ytest,ypred))\n",
    "    print(confusion_matrix(ytest,ypred))\n",
    "    print(classification_report(ytest,ypred))"
   ]
  },
  {
   "cell_type": "markdown",
   "id": "8e6d0609",
   "metadata": {},
   "source": [
    "## Applying Logistic Regression"
   ]
  },
  {
   "cell_type": "code",
   "execution_count": 12,
   "id": "ee88cace",
   "metadata": {},
   "outputs": [],
   "source": [
    "from sklearn.linear_model import LogisticRegression\n",
    "from sklearn.metrics import confusion_matrix, classification_report"
   ]
  },
  {
   "cell_type": "code",
   "execution_count": 13,
   "id": "5f1c8f31",
   "metadata": {},
   "outputs": [
    {
     "data": {
      "text/plain": [
       "LogisticRegression()"
      ]
     },
     "execution_count": 13,
     "metadata": {},
     "output_type": "execute_result"
    }
   ],
   "source": [
    "m1 = LogisticRegression()\n",
    "m1.fit(x_train,y_train)"
   ]
  },
  {
   "cell_type": "code",
   "execution_count": 14,
   "id": "66fe403d",
   "metadata": {
    "scrolled": true
   },
   "outputs": [
    {
     "name": "stdout",
     "output_type": "stream",
     "text": [
      "Train Score 0.6453333333333333\n",
      "Test Score 0.616\n"
     ]
    }
   ],
   "source": [
    "print('Train Score',m1.score(x_train,y_train))\n",
    "print('Test Score',m1.score(x_test,y_test))"
   ]
  },
  {
   "cell_type": "code",
   "execution_count": 15,
   "id": "951a39fc",
   "metadata": {},
   "outputs": [
    {
     "name": "stdout",
     "output_type": "stream",
     "text": [
      "[0 2 0 3 1 2 3 0 3 3 0 1 2 3 3 2 2 2 1 0 0 1 0 2 1 1 3 3 3 0 1 0 3 0 2 3 2\n",
      " 1 3 0 1 2 3 0 3 3 3 1 3 1 3 2 0 0 2 0 1 2 0 0 1 3 3 2 2 0 3 3 1 1 2 1 0 1\n",
      " 2 0 0 3 2 1 3 2 1 0 1 3 3 3 3 0 3 3 3 0 3 2 2 3 2 1 0 1 0 0 1 3 3 0 0 1 0\n",
      " 0 3 3 2 1 3 3 0 2 1 3 2 2 3 3 0 3 0 2 3 0 2 2 0 2 1 1 0 2 3 1 3 3 0 0 1 2\n",
      " 1 2 3 1 1 0 2 3 0 1 0 1 3 3 1 2 1 0 0 2 1 3 3 1 0 0 3 1 1 2 0 1 0 0 0 1 3\n",
      " 2 0 2 0 0 0 0 1 3 3 1 0 1 1 1 1 2 1 2 3 3 1 3 0 1 1 1 1 1 3 1 1 3 1 1 3 2\n",
      " 3 0 0 3 0 2 0 0 1 0 2 3 2 1 0 2 3 1 3 3 2 3 0 3 2 2 2 3 3 1 1 3 2 1 2 3 3\n",
      " 3 3 0 2 2 2 2 3 0 3 3 2 2 2 0 1 3 0 2 3 1 3 1 1 2 0 3 0 0 3 0 1 2 3 2 2 0\n",
      " 1 0 0 3 3 0 1 1 2 0 3 3 3 3 1 3 2 0 3 2 3 2 0 0 1 3 1 3 1 1 2 0 3 3 2 0 2\n",
      " 2 2 1 3 1 0 3 1 2 1 1 1 1 2 2 3 3 1 1 1 2 2 0 3 0 0 2 0 0 2 2 2 3 0 1 2 3\n",
      " 3 3 2 3 1 2 0 2 1 3 3 0 1 3 1 3 2 3 1 0 3 2 0 0 3 3 1 2 3 2 0 3 0 2 2 2 0\n",
      " 1 1 1 0 0 1 0 3 3 2 1 2 1 3 1 0 3 1 0 0 3 0 3 0 1 1 2 3 0 2 0 2 1 3 3 1 3\n",
      " 1 2 1 0 3 2 0 2 2 2 2 2 1 1 2 3 1 0 3 1 1 1 3 3 3 2 0 2 2 0 1 2 3 1 2 0 0\n",
      " 0 2 3 0 1 2 2 2 3 1 2 2 3 0 0 0 2 3 1]\n"
     ]
    }
   ],
   "source": [
    "ypred_m1 = m1.predict(x_test)\n",
    "print(ypred_m1)"
   ]
  },
  {
   "cell_type": "code",
   "execution_count": 16,
   "id": "4b4481a4",
   "metadata": {},
   "outputs": [
    {
     "name": "stdout",
     "output_type": "stream",
     "text": [
      "Accuracy Score:  0.616\n",
      "[[95 36  1  0]\n",
      " [24 59 26  9]\n",
      " [ 1 23 59 37]\n",
      " [ 0  3 32 95]]\n",
      "              precision    recall  f1-score   support\n",
      "\n",
      "           0       0.79      0.72      0.75       132\n",
      "           1       0.49      0.50      0.49       118\n",
      "           2       0.50      0.49      0.50       120\n",
      "           3       0.67      0.73      0.70       130\n",
      "\n",
      "    accuracy                           0.62       500\n",
      "   macro avg       0.61      0.61      0.61       500\n",
      "weighted avg       0.62      0.62      0.62       500\n",
      "\n"
     ]
    }
   ],
   "source": [
    "eval_model(y_test,ypred_m1)"
   ]
  },
  {
   "cell_type": "markdown",
   "id": "4ebc4cc4",
   "metadata": {},
   "source": [
    "## Applying KNN"
   ]
  },
  {
   "cell_type": "code",
   "execution_count": 17,
   "id": "8f7a27db",
   "metadata": {},
   "outputs": [],
   "source": [
    "from sklearn.neighbors import KNeighborsClassifier"
   ]
  },
  {
   "cell_type": "code",
   "execution_count": 18,
   "id": "c4ea430f",
   "metadata": {},
   "outputs": [
    {
     "data": {
      "text/plain": [
       "KNeighborsClassifier(n_neighbors=11)"
      ]
     },
     "execution_count": 18,
     "metadata": {},
     "output_type": "execute_result"
    }
   ],
   "source": [
    "knn = KNeighborsClassifier(n_neighbors=11)\n",
    "knn.fit(x_train,y_train)"
   ]
  },
  {
   "cell_type": "code",
   "execution_count": 19,
   "id": "d1e96e39",
   "metadata": {},
   "outputs": [
    {
     "name": "stdout",
     "output_type": "stream",
     "text": [
      "Train score 0.952\n",
      "Test score 0.938\n"
     ]
    }
   ],
   "source": [
    "print('Train score',knn.score(x_train,y_train))  # Train Acc\n",
    "print('Test score',knn.score(x_test,y_test))"
   ]
  },
  {
   "cell_type": "code",
   "execution_count": 20,
   "id": "e1b745e1",
   "metadata": {
    "scrolled": false
   },
   "outputs": [
    {
     "name": "stdout",
     "output_type": "stream",
     "text": [
      "[0 2 1 3 1 1 2 0 3 1 0 1 2 3 2 2 3 3 1 0 0 1 1 2 0 1 3 2 2 0 0 0 3 0 1 1 2\n",
      " 0 3 0 2 2 2 0 3 2 2 1 3 1 3 1 0 0 0 1 1 3 0 0 1 3 3 1 0 0 3 3 1 2 2 2 0 1\n",
      " 2 0 0 3 2 1 3 2 1 0 1 3 1 3 3 0 3 3 2 1 3 2 2 3 1 1 0 0 1 0 0 3 2 0 1 1 0\n",
      " 0 3 1 3 2 3 2 0 2 1 3 2 1 3 3 0 2 0 2 3 0 2 2 0 3 1 0 0 2 2 1 2 2 0 0 0 1\n",
      " 1 2 3 1 1 0 2 2 0 1 0 2 2 3 3 2 1 0 1 2 2 3 3 0 1 0 3 1 1 2 1 0 0 0 0 0 3\n",
      " 2 0 3 0 0 0 0 1 3 3 1 0 1 1 1 1 1 2 3 3 3 1 2 0 0 0 2 1 1 3 1 0 2 1 1 3 2\n",
      " 3 0 0 2 1 3 0 1 2 0 2 3 2 0 1 3 3 0 1 3 2 3 0 3 1 2 3 3 2 1 1 3 3 1 3 3 3\n",
      " 3 3 0 2 2 2 1 3 0 1 3 2 2 2 1 0 1 0 3 3 1 3 1 0 3 1 2 0 0 3 0 1 2 3 3 3 1\n",
      " 1 0 1 3 3 0 1 2 2 0 3 3 2 3 2 3 2 0 2 1 1 1 0 0 0 3 2 3 1 0 1 0 1 2 3 0 3\n",
      " 3 2 1 2 0 0 2 1 3 2 0 1 1 1 0 1 3 2 0 0 3 3 0 3 0 0 2 0 1 2 2 2 3 0 3 2 2\n",
      " 3 3 3 2 1 1 0 3 1 3 3 0 2 3 2 3 3 3 0 0 2 3 0 0 2 3 2 1 1 2 1 2 1 3 1 2 0\n",
      " 0 1 0 1 0 1 0 2 2 3 2 1 1 3 1 0 3 1 0 0 3 0 1 0 0 1 3 3 0 2 0 1 1 3 3 1 2\n",
      " 0 2 0 0 3 3 0 2 2 1 3 1 2 0 1 3 1 0 3 1 0 0 3 2 3 2 0 2 1 0 1 2 3 2 1 1 0\n",
      " 1 2 2 1 1 1 3 1 2 0 2 2 3 1 0 1 2 3 1]\n"
     ]
    }
   ],
   "source": [
    "ypred_k1 = knn.predict(x_test)\n",
    "print(ypred_k1)"
   ]
  },
  {
   "cell_type": "code",
   "execution_count": 21,
   "id": "7fe4289f",
   "metadata": {},
   "outputs": [
    {
     "name": "stdout",
     "output_type": "stream",
     "text": [
      "Accuracy Score:  0.938\n",
      "[[127   5   0   0]\n",
      " [  4 113   1   0]\n",
      " [  0  11 106   3]\n",
      " [  0   0   7 123]]\n",
      "              precision    recall  f1-score   support\n",
      "\n",
      "           0       0.97      0.96      0.97       132\n",
      "           1       0.88      0.96      0.91       118\n",
      "           2       0.93      0.88      0.91       120\n",
      "           3       0.98      0.95      0.96       130\n",
      "\n",
      "    accuracy                           0.94       500\n",
      "   macro avg       0.94      0.94      0.94       500\n",
      "weighted avg       0.94      0.94      0.94       500\n",
      "\n"
     ]
    }
   ],
   "source": [
    "eval_model(y_test,ypred_k1)"
   ]
  },
  {
   "cell_type": "markdown",
   "id": "af259540",
   "metadata": {},
   "source": [
    "## Applying SVM with linear kernel"
   ]
  },
  {
   "cell_type": "code",
   "execution_count": 22,
   "id": "51a4fb24",
   "metadata": {},
   "outputs": [],
   "source": [
    "from sklearn.svm import SVC"
   ]
  },
  {
   "cell_type": "code",
   "execution_count": 23,
   "id": "c8a134d8",
   "metadata": {},
   "outputs": [
    {
     "data": {
      "text/plain": [
       "SVC(C=10, kernel='linear')"
      ]
     },
     "execution_count": 23,
     "metadata": {},
     "output_type": "execute_result"
    }
   ],
   "source": [
    "svm1 = SVC(kernel='linear',C=10)\n",
    "svm1.fit(x_train,y_train)"
   ]
  },
  {
   "cell_type": "code",
   "execution_count": 24,
   "id": "f089cb40",
   "metadata": {},
   "outputs": [
    {
     "name": "stdout",
     "output_type": "stream",
     "text": [
      "Train score 0.9833333333333333\n",
      "Test score 0.964\n"
     ]
    }
   ],
   "source": [
    "print('Train score',svm1.score(x_train,y_train))\n",
    "print('Test score',svm1.score(x_test,y_test)) "
   ]
  },
  {
   "cell_type": "code",
   "execution_count": 25,
   "id": "5ee5b12a",
   "metadata": {},
   "outputs": [
    {
     "name": "stdout",
     "output_type": "stream",
     "text": [
      "[0 2 1 3 1 1 2 0 3 1 0 1 2 3 3 2 3 3 1 0 0 2 1 2 0 1 3 3 2 0 0 0 3 0 1 1 2\n",
      " 0 3 0 2 3 2 0 2 3 2 1 3 1 3 1 0 0 1 1 1 3 0 0 1 3 3 1 0 0 3 3 1 2 2 2 0 1\n",
      " 2 0 1 3 2 2 3 2 1 0 1 3 1 3 3 0 3 3 2 1 3 2 2 3 1 1 0 0 1 0 1 3 2 0 1 1 0\n",
      " 0 3 1 3 2 3 2 0 2 1 3 2 1 3 3 0 2 0 2 3 0 2 2 0 3 1 0 0 2 2 1 2 2 0 0 0 1\n",
      " 1 2 3 1 1 0 2 2 0 1 0 2 2 3 3 3 1 0 1 2 2 3 3 0 1 0 3 1 1 2 1 0 0 0 0 0 3\n",
      " 2 0 3 0 0 0 0 1 3 3 1 0 1 1 1 1 2 2 3 3 3 1 2 0 0 0 2 1 1 3 1 1 2 1 1 3 2\n",
      " 3 0 0 2 1 3 0 1 2 0 2 3 2 0 1 3 3 0 1 3 3 3 0 3 1 2 3 3 2 1 0 3 3 1 3 3 3\n",
      " 3 3 0 1 2 2 1 3 0 2 3 2 2 2 1 0 1 0 2 3 1 3 1 1 3 1 2 0 0 3 0 1 2 3 3 3 1\n",
      " 1 0 1 3 3 0 1 2 2 0 3 3 2 3 2 3 2 0 2 1 1 1 0 0 0 3 3 3 1 0 1 0 1 2 3 0 3\n",
      " 3 2 1 3 0 0 2 1 3 2 0 1 1 1 1 1 3 2 0 0 3 3 0 3 0 0 2 0 1 2 2 2 3 0 3 2 3\n",
      " 3 3 3 2 1 1 0 3 1 3 3 0 2 3 2 3 3 3 0 0 2 3 0 0 2 3 2 1 1 2 1 3 0 3 1 2 0\n",
      " 0 1 0 1 0 1 0 2 2 3 2 1 1 2 1 1 3 1 0 0 3 0 1 0 0 2 3 3 0 2 0 1 1 3 3 1 2\n",
      " 0 2 0 0 3 3 0 2 2 2 3 1 2 0 1 3 1 0 3 1 0 0 3 2 3 2 0 2 1 0 1 2 3 2 1 1 0\n",
      " 1 2 2 1 0 1 3 1 2 0 2 2 3 0 0 1 2 3 1]\n"
     ]
    }
   ],
   "source": [
    "ypred_s1 = svm1.predict(x_test)\n",
    "print(ypred_s1)"
   ]
  },
  {
   "cell_type": "code",
   "execution_count": 26,
   "id": "76c836f8",
   "metadata": {},
   "outputs": [
    {
     "name": "stdout",
     "output_type": "stream",
     "text": [
      "Accuracy Score:  0.964\n",
      "[[127   5   0   0]\n",
      " [  1 117   0   0]\n",
      " [  0   5 110   5]\n",
      " [  0   0   2 128]]\n",
      "              precision    recall  f1-score   support\n",
      "\n",
      "           0       0.99      0.96      0.98       132\n",
      "           1       0.92      0.99      0.96       118\n",
      "           2       0.98      0.92      0.95       120\n",
      "           3       0.96      0.98      0.97       130\n",
      "\n",
      "    accuracy                           0.96       500\n",
      "   macro avg       0.96      0.96      0.96       500\n",
      "weighted avg       0.97      0.96      0.96       500\n",
      "\n"
     ]
    }
   ],
   "source": [
    "eval_model(y_test,ypred_s1)"
   ]
  },
  {
   "cell_type": "markdown",
   "id": "fb1cd3b8",
   "metadata": {},
   "source": [
    "## Applying SVM with rbf kernel"
   ]
  },
  {
   "cell_type": "code",
   "execution_count": 27,
   "id": "825646e9",
   "metadata": {},
   "outputs": [
    {
     "data": {
      "text/plain": [
       "SVC(C=10)"
      ]
     },
     "execution_count": 27,
     "metadata": {},
     "output_type": "execute_result"
    }
   ],
   "source": [
    "svm2 = SVC(kernel='rbf',C=10)\n",
    "svm2.fit(x_train,y_train)"
   ]
  },
  {
   "cell_type": "code",
   "execution_count": 28,
   "id": "62cd5513",
   "metadata": {},
   "outputs": [
    {
     "name": "stdout",
     "output_type": "stream",
     "text": [
      "Train score 0.966\n",
      "Test score 0.956\n"
     ]
    }
   ],
   "source": [
    "print('Train score',svm2.score(x_train,y_train))\n",
    "print('Test score',svm2.score(x_test,y_test)) "
   ]
  },
  {
   "cell_type": "code",
   "execution_count": 29,
   "id": "46aec616",
   "metadata": {},
   "outputs": [
    {
     "name": "stdout",
     "output_type": "stream",
     "text": [
      "[0 2 1 3 1 1 2 0 3 1 0 1 2 3 3 2 3 3 1 0 0 1 1 2 0 1 3 2 2 0 0 0 3 0 1 1 2\n",
      " 0 3 0 2 3 2 0 2 2 2 1 3 1 3 1 0 0 1 1 1 3 0 0 1 3 3 1 0 0 3 3 1 2 2 2 0 1\n",
      " 2 0 1 3 2 2 3 2 1 0 1 3 1 3 3 0 3 3 2 1 3 2 2 3 1 1 0 0 1 0 0 3 2 0 1 1 0\n",
      " 0 3 1 3 2 3 2 0 2 1 3 2 1 3 3 0 3 0 2 3 0 2 2 0 3 1 0 0 2 2 1 2 2 0 0 0 1\n",
      " 1 2 3 1 1 0 2 2 0 1 0 2 2 3 3 3 1 0 1 2 2 3 3 0 1 0 3 1 1 2 1 0 0 0 0 0 3\n",
      " 2 0 3 0 0 0 0 1 3 3 1 0 1 1 1 1 2 2 3 3 3 1 2 0 0 0 2 1 1 3 1 0 2 1 1 3 2\n",
      " 3 0 0 2 1 3 0 1 2 0 2 3 2 0 1 3 3 0 1 3 3 3 0 3 1 2 3 3 2 1 1 3 3 1 3 3 3\n",
      " 3 3 0 1 2 2 1 3 0 2 3 2 3 2 1 0 1 0 3 3 1 3 1 0 3 1 2 0 0 3 0 1 2 3 3 3 1\n",
      " 1 0 1 3 3 0 1 2 2 0 3 3 2 3 2 3 2 0 2 1 1 1 0 0 0 2 3 3 1 0 1 0 1 2 3 0 3\n",
      " 3 2 1 3 0 0 2 1 3 2 0 1 1 1 1 1 3 2 0 0 3 3 0 3 0 0 2 0 1 2 2 2 3 0 3 2 2\n",
      " 3 3 3 2 1 1 0 3 1 3 3 0 2 3 2 3 3 3 0 0 2 3 0 0 2 3 2 1 1 2 1 3 1 3 1 2 0\n",
      " 0 1 0 1 0 1 0 2 2 3 2 1 1 2 1 1 3 1 0 0 3 0 1 0 0 1 3 3 0 2 0 1 1 3 3 1 2\n",
      " 0 2 0 0 3 3 0 2 2 2 3 1 2 0 1 3 1 0 3 1 0 0 3 2 3 2 0 2 1 0 1 2 3 2 1 1 0\n",
      " 1 2 2 1 1 1 3 1 2 0 2 2 3 1 0 1 2 3 1]\n"
     ]
    }
   ],
   "source": [
    "ypred_s2 = svm2.predict(x_test)\n",
    "print(ypred_s2)"
   ]
  },
  {
   "cell_type": "code",
   "execution_count": 30,
   "id": "3a947443",
   "metadata": {},
   "outputs": [
    {
     "name": "stdout",
     "output_type": "stream",
     "text": [
      "Accuracy Score:  0.956\n",
      "[[127   5   0   0]\n",
      " [  0 118   0   0]\n",
      " [  0   7 107   6]\n",
      " [  0   0   4 126]]\n",
      "              precision    recall  f1-score   support\n",
      "\n",
      "           0       1.00      0.96      0.98       132\n",
      "           1       0.91      1.00      0.95       118\n",
      "           2       0.96      0.89      0.93       120\n",
      "           3       0.95      0.97      0.96       130\n",
      "\n",
      "    accuracy                           0.96       500\n",
      "   macro avg       0.96      0.96      0.96       500\n",
      "weighted avg       0.96      0.96      0.96       500\n",
      "\n"
     ]
    }
   ],
   "source": [
    "eval_model(y_test,ypred_s2)"
   ]
  },
  {
   "cell_type": "markdown",
   "id": "2e45f735",
   "metadata": {},
   "source": [
    "## Applying Decision Trees"
   ]
  },
  {
   "cell_type": "code",
   "execution_count": 31,
   "id": "b95c506b",
   "metadata": {},
   "outputs": [],
   "source": [
    "from sklearn.tree import DecisionTreeClassifier"
   ]
  },
  {
   "cell_type": "code",
   "execution_count": 32,
   "id": "8d87e231",
   "metadata": {},
   "outputs": [
    {
     "data": {
      "text/plain": [
       "DecisionTreeClassifier(max_depth=5, min_samples_split=12)"
      ]
     },
     "execution_count": 32,
     "metadata": {},
     "output_type": "execute_result"
    }
   ],
   "source": [
    "dt1 = DecisionTreeClassifier(criterion='gini', max_depth=5, min_samples_split=12)\n",
    "dt1.fit(x_train,y_train)"
   ]
  },
  {
   "cell_type": "code",
   "execution_count": 33,
   "id": "d07d901c",
   "metadata": {},
   "outputs": [
    {
     "name": "stdout",
     "output_type": "stream",
     "text": [
      "Train Score 0.8773333333333333\n",
      "Test Score 0.794\n"
     ]
    }
   ],
   "source": [
    "print('Train Score',dt1.score(x_train,y_train))\n",
    "print('Test Score',dt1.score(x_test,y_test))"
   ]
  },
  {
   "cell_type": "code",
   "execution_count": 34,
   "id": "0da4f4ae",
   "metadata": {},
   "outputs": [
    {
     "name": "stdout",
     "output_type": "stream",
     "text": [
      "[0 2 1 3 1 2 2 0 2 1 0 1 2 3 2 2 3 3 1 0 0 1 1 1 0 1 2 2 2 0 1 0 3 0 1 1 3\n",
      " 0 3 0 2 2 2 0 3 2 1 1 3 1 3 1 0 0 1 1 1 2 0 0 1 3 3 2 0 0 3 3 1 2 2 2 0 1\n",
      " 2 0 0 3 2 2 3 2 1 0 1 3 2 3 3 0 3 3 2 1 3 2 2 3 2 1 0 0 1 1 0 3 2 0 1 1 0\n",
      " 0 2 2 2 2 2 3 0 2 1 3 2 1 3 3 0 3 1 2 3 0 2 2 0 3 1 1 0 2 3 1 2 3 0 0 0 1\n",
      " 2 2 3 1 1 0 2 2 0 1 0 2 2 3 3 3 1 0 1 2 2 3 2 1 1 0 3 1 2 2 1 0 0 0 0 0 3\n",
      " 2 0 3 0 0 0 0 1 3 3 1 0 1 2 1 1 1 2 2 3 3 0 2 0 0 0 2 1 1 3 1 1 3 2 1 3 1\n",
      " 2 0 0 2 1 2 0 1 2 0 1 3 2 0 1 3 3 0 2 3 3 3 0 2 1 2 3 3 2 1 1 3 3 1 3 3 3\n",
      " 3 3 0 2 2 2 2 2 0 2 3 2 2 2 1 0 2 0 2 3 1 3 1 0 3 1 2 0 0 3 0 1 2 3 3 3 0\n",
      " 1 0 1 3 3 0 1 1 2 0 3 3 2 3 1 3 2 0 2 1 2 1 0 0 1 3 2 3 1 0 1 1 1 3 3 1 2\n",
      " 2 2 1 2 0 0 3 1 3 2 0 1 1 2 1 2 3 1 0 0 2 3 0 3 0 0 1 0 0 2 2 2 3 1 3 2 2\n",
      " 3 3 3 2 1 2 0 3 2 3 3 0 2 3 2 3 3 3 1 0 2 3 0 0 2 3 1 1 1 2 1 2 1 3 1 2 0\n",
      " 0 1 0 1 0 2 1 1 2 3 2 1 0 3 1 0 3 1 0 1 3 0 1 0 0 1 3 3 0 2 0 1 1 2 3 0 2\n",
      " 1 2 0 0 3 3 0 2 2 1 3 1 2 0 1 3 1 0 2 1 0 0 3 2 3 2 0 3 1 0 1 2 3 2 1 1 0\n",
      " 1 2 2 1 1 1 3 2 2 1 3 3 3 1 0 1 2 3 1]\n"
     ]
    }
   ],
   "source": [
    "ypred_dt1 = dt1.predict(x_test)\n",
    "print(ypred_dt1)"
   ]
  },
  {
   "cell_type": "code",
   "execution_count": 35,
   "id": "ed400f3f",
   "metadata": {},
   "outputs": [
    {
     "name": "stdout",
     "output_type": "stream",
     "text": [
      "Accuracy Score:  0.794\n",
      "[[112  20   0   0]\n",
      " [  7  93  18   0]\n",
      " [  0  17  87  16]\n",
      " [  0   0  25 105]]\n",
      "              precision    recall  f1-score   support\n",
      "\n",
      "           0       0.94      0.85      0.89       132\n",
      "           1       0.72      0.79      0.75       118\n",
      "           2       0.67      0.72      0.70       120\n",
      "           3       0.87      0.81      0.84       130\n",
      "\n",
      "    accuracy                           0.79       500\n",
      "   macro avg       0.80      0.79      0.79       500\n",
      "weighted avg       0.80      0.79      0.80       500\n",
      "\n"
     ]
    }
   ],
   "source": [
    "eval_model(y_test,ypred_dt1)"
   ]
  },
  {
   "cell_type": "markdown",
   "id": "c4f60096",
   "metadata": {},
   "source": [
    "## Applying Random Forest"
   ]
  },
  {
   "cell_type": "code",
   "execution_count": 36,
   "id": "428051d9",
   "metadata": {},
   "outputs": [],
   "source": [
    "from sklearn.ensemble import RandomForestClassifier"
   ]
  },
  {
   "cell_type": "code",
   "execution_count": 37,
   "id": "58622fac",
   "metadata": {},
   "outputs": [
    {
     "data": {
      "text/plain": [
       "RandomForestClassifier(criterion='entropy', max_depth=7, n_estimators=80,\n",
       "                       random_state=22)"
      ]
     },
     "execution_count": 37,
     "metadata": {},
     "output_type": "execute_result"
    }
   ],
   "source": [
    "rf1 = RandomForestClassifier(n_estimators=80,criterion='entropy',max_depth=7,random_state=22)\n",
    "rf1.fit(x_train,y_train)"
   ]
  },
  {
   "cell_type": "code",
   "execution_count": 38,
   "id": "cc891c48",
   "metadata": {},
   "outputs": [
    {
     "name": "stdout",
     "output_type": "stream",
     "text": [
      "Train Score 0.9753333333333334\n",
      "Test Score 0.864\n"
     ]
    }
   ],
   "source": [
    "print('Train Score',rf1.score(x_train,y_train))\n",
    "print('Test Score',rf1.score(x_test,y_test))"
   ]
  },
  {
   "cell_type": "code",
   "execution_count": 39,
   "id": "29a3b605",
   "metadata": {},
   "outputs": [
    {
     "name": "stdout",
     "output_type": "stream",
     "text": [
      "[0 2 1 3 1 2 2 0 3 1 0 1 2 3 2 2 3 3 1 0 0 1 1 1 0 1 3 2 2 0 0 0 3 0 1 1 2\n",
      " 0 3 0 2 3 3 0 3 2 2 1 3 1 3 1 0 0 1 1 1 3 0 0 1 3 3 2 0 0 3 3 1 2 2 3 0 1\n",
      " 2 0 0 3 2 2 3 2 1 0 1 3 2 3 3 0 3 3 2 1 3 2 2 3 2 1 0 0 1 0 0 3 2 0 1 1 0\n",
      " 0 3 1 3 2 3 2 0 2 1 3 2 1 3 3 0 3 0 2 3 0 2 2 0 3 1 0 0 2 3 0 3 2 0 0 0 1\n",
      " 2 2 3 1 1 0 2 2 0 1 0 2 2 3 3 2 1 0 0 2 2 3 3 1 1 0 3 1 1 2 1 0 0 0 0 0 3\n",
      " 2 0 3 0 1 0 0 1 3 3 1 0 1 2 1 1 2 2 3 3 3 1 2 0 0 0 2 1 1 3 1 0 2 2 1 3 1\n",
      " 3 0 0 2 1 3 0 0 1 0 1 3 2 0 1 2 3 0 2 3 2 3 0 3 1 2 3 3 2 1 1 3 3 1 3 3 3\n",
      " 3 3 0 1 2 3 2 2 0 2 3 2 2 2 1 0 2 0 2 3 1 3 1 0 3 1 2 0 0 3 0 1 2 3 2 3 1\n",
      " 1 0 1 3 3 0 1 1 2 0 3 3 2 3 1 3 2 0 2 1 2 1 0 0 1 3 3 3 1 0 1 0 2 2 2 0 3\n",
      " 3 2 1 3 0 0 3 1 3 2 0 1 1 2 1 1 3 1 0 0 3 3 0 3 0 0 2 0 0 2 2 2 3 0 3 2 3\n",
      " 3 3 3 2 1 2 0 3 1 3 3 0 2 3 2 3 3 3 0 0 2 3 0 0 2 3 1 1 1 2 1 3 1 3 1 2 0\n",
      " 0 1 0 1 0 2 1 1 3 3 2 1 1 3 1 0 3 1 0 0 3 0 1 1 1 1 3 3 0 2 1 1 1 3 3 0 2\n",
      " 0 2 0 0 3 3 0 2 2 1 3 1 1 0 1 3 1 0 3 1 0 0 3 2 3 2 0 3 1 0 1 2 3 2 1 1 0\n",
      " 1 2 2 1 1 1 3 1 3 0 3 2 3 0 0 1 2 3 1]\n"
     ]
    }
   ],
   "source": [
    "ypred_rf1 = rf1.predict(x_test)\n",
    "print(ypred_rf1)"
   ]
  },
  {
   "cell_type": "code",
   "execution_count": 40,
   "id": "3197f5f3",
   "metadata": {},
   "outputs": [
    {
     "name": "stdout",
     "output_type": "stream",
     "text": [
      "Accuracy Score:  0.864\n",
      "[[120  12   0   0]\n",
      " [  8  98  12   0]\n",
      " [  0  15  91  14]\n",
      " [  0   0   7 123]]\n",
      "              precision    recall  f1-score   support\n",
      "\n",
      "           0       0.94      0.91      0.92       132\n",
      "           1       0.78      0.83      0.81       118\n",
      "           2       0.83      0.76      0.79       120\n",
      "           3       0.90      0.95      0.92       130\n",
      "\n",
      "    accuracy                           0.86       500\n",
      "   macro avg       0.86      0.86      0.86       500\n",
      "weighted avg       0.86      0.86      0.86       500\n",
      "\n"
     ]
    }
   ],
   "source": [
    "eval_model(y_test,ypred_rf1)"
   ]
  },
  {
   "cell_type": "markdown",
   "id": "96458498",
   "metadata": {},
   "source": [
    "### The SVM model has the best accuracy with an accuracy score of 0.96"
   ]
  }
 ],
 "metadata": {
  "kernelspec": {
   "display_name": "Python 3 (ipykernel)",
   "language": "python",
   "name": "python3"
  },
  "language_info": {
   "codemirror_mode": {
    "name": "ipython",
    "version": 3
   },
   "file_extension": ".py",
   "mimetype": "text/x-python",
   "name": "python",
   "nbconvert_exporter": "python",
   "pygments_lexer": "ipython3",
   "version": "3.9.13"
  }
 },
 "nbformat": 4,
 "nbformat_minor": 5
}
